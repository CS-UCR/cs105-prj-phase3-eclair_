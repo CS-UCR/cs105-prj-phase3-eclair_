{
 "cells": [
  {
   "cell_type": "markdown",
   "metadata": {},
   "source": [
    "# CS 105 Project Phase 2 - Data Cleaning and EDA\n",
    "\n",
    "## Authors: Amirsadra Mohseni (862085035), Francisco Lagos Vilaboa (862018654)\n",
    "\n",
    "https://data.world/datasets/drugs"
   ]
  },
  {
   "cell_type": "markdown",
   "metadata": {},
   "source": [
    "### Import libraries and load the data set"
   ]
  },
  {
   "cell_type": "code",
   "execution_count": 1,
   "metadata": {},
   "outputs": [],
   "source": [
    "import pandas as pd\n",
    "import matplotlib.pyplot as plt\n",
    "from mpl_toolkits.mplot3d import Axes3D\n",
    "import matplotlib as mpl\n",
    "import numpy as np\n",
    "import seaborn as sns\n",
    "import statistics\n",
    "\n",
    "%matplotlib inline"
   ]
  },
  {
   "cell_type": "code",
   "execution_count": 2,
   "metadata": {},
   "outputs": [],
   "source": [
    "df_drugs = pd.read_csv('/home/csmajs/flago001/cs105-prj-phase2-eclair_/Drug_Utilization_2018_-_California.csv')\n",
    "df_crawl = pd.read_csv('/home/csmajs/flago001/cs105-prj-phase2-eclair_/webmd.csv')"
   ]
  },
  {
   "cell_type": "markdown",
   "metadata": {},
   "source": [
    "### Drugs data set we found online"
   ]
  },
  {
   "cell_type": "code",
   "execution_count": 3,
   "metadata": {},
   "outputs": [
    {
     "data": {
      "text/html": [
       "<div>\n",
       "<style scoped>\n",
       "    .dataframe tbody tr th:only-of-type {\n",
       "        vertical-align: middle;\n",
       "    }\n",
       "\n",
       "    .dataframe tbody tr th {\n",
       "        vertical-align: top;\n",
       "    }\n",
       "\n",
       "    .dataframe thead th {\n",
       "        text-align: right;\n",
       "    }\n",
       "</style>\n",
       "<table border=\"1\" class=\"dataframe\">\n",
       "  <thead>\n",
       "    <tr style=\"text-align: right;\">\n",
       "      <th></th>\n",
       "      <th>Utilization Type</th>\n",
       "      <th>State</th>\n",
       "      <th>Labeler Code</th>\n",
       "      <th>Product Code</th>\n",
       "      <th>Package Size</th>\n",
       "      <th>Year</th>\n",
       "      <th>Quarter</th>\n",
       "      <th>Product Name</th>\n",
       "      <th>Suppression Used</th>\n",
       "      <th>Units Reimbursed</th>\n",
       "      <th>Number of Prescriptions</th>\n",
       "      <th>Total Amount Reimbursed</th>\n",
       "      <th>Medicaid Amount Reimbursed</th>\n",
       "      <th>Non Medicaid Amount Reimbursed</th>\n",
       "      <th>Quarter Begin</th>\n",
       "      <th>Quarter Begin Date</th>\n",
       "      <th>Latitude</th>\n",
       "      <th>Longitude</th>\n",
       "      <th>Location</th>\n",
       "      <th>NDC</th>\n",
       "    </tr>\n",
       "  </thead>\n",
       "  <tbody>\n",
       "    <tr>\n",
       "      <th>0</th>\n",
       "      <td>MCOU</td>\n",
       "      <td>CA</td>\n",
       "      <td>168</td>\n",
       "      <td>20</td>\n",
       "      <td>31</td>\n",
       "      <td>2018</td>\n",
       "      <td>4</td>\n",
       "      <td>HYDRO OT 1</td>\n",
       "      <td>False</td>\n",
       "      <td>145234.499</td>\n",
       "      <td>4134.0</td>\n",
       "      <td>25281.85</td>\n",
       "      <td>25281.85</td>\n",
       "      <td>0.0</td>\n",
       "      <td>10/1</td>\n",
       "      <td>10/01/2018 12:00:00 AM</td>\n",
       "      <td>33.7712</td>\n",
       "      <td>-111.3877</td>\n",
       "      <td>(33.7712, -111.3877)</td>\n",
       "      <td>168002031</td>\n",
       "    </tr>\n",
       "    <tr>\n",
       "      <th>1</th>\n",
       "      <td>FFSU</td>\n",
       "      <td>CA</td>\n",
       "      <td>93</td>\n",
       "      <td>1712</td>\n",
       "      <td>1</td>\n",
       "      <td>2018</td>\n",
       "      <td>4</td>\n",
       "      <td>WARFARIN S</td>\n",
       "      <td>False</td>\n",
       "      <td>34389.000</td>\n",
       "      <td>629.0</td>\n",
       "      <td>9594.28</td>\n",
       "      <td>9594.28</td>\n",
       "      <td>0.0</td>\n",
       "      <td>10/1</td>\n",
       "      <td>10/01/2018 12:00:00 AM</td>\n",
       "      <td>33.7712</td>\n",
       "      <td>-111.3877</td>\n",
       "      <td>(33.7712, -111.3877)</td>\n",
       "      <td>93171201</td>\n",
       "    </tr>\n",
       "    <tr>\n",
       "      <th>2</th>\n",
       "      <td>MCOU</td>\n",
       "      <td>CA</td>\n",
       "      <td>13668</td>\n",
       "      <td>271</td>\n",
       "      <td>1</td>\n",
       "      <td>2018</td>\n",
       "      <td>4</td>\n",
       "      <td>CARBAMZEPI</td>\n",
       "      <td>False</td>\n",
       "      <td>65209.000</td>\n",
       "      <td>515.0</td>\n",
       "      <td>23956.24</td>\n",
       "      <td>23956.24</td>\n",
       "      <td>0.0</td>\n",
       "      <td>10/1</td>\n",
       "      <td>10/01/2018 12:00:00 AM</td>\n",
       "      <td>33.7712</td>\n",
       "      <td>-111.3877</td>\n",
       "      <td>(33.7712, -111.3877)</td>\n",
       "      <td>13668027101</td>\n",
       "    </tr>\n",
       "    <tr>\n",
       "      <th>3</th>\n",
       "      <td>MCOU</td>\n",
       "      <td>CA</td>\n",
       "      <td>409</td>\n",
       "      <td>9558</td>\n",
       "      <td>10</td>\n",
       "      <td>2018</td>\n",
       "      <td>4</td>\n",
       "      <td>ROCURONIUM</td>\n",
       "      <td>True</td>\n",
       "      <td>NaN</td>\n",
       "      <td>NaN</td>\n",
       "      <td>NaN</td>\n",
       "      <td>NaN</td>\n",
       "      <td>NaN</td>\n",
       "      <td>10/1</td>\n",
       "      <td>10/01/2018 12:00:00 AM</td>\n",
       "      <td>33.7712</td>\n",
       "      <td>-111.3877</td>\n",
       "      <td>(33.7712, -111.3877)</td>\n",
       "      <td>409955810</td>\n",
       "    </tr>\n",
       "    <tr>\n",
       "      <th>4</th>\n",
       "      <td>MCOU</td>\n",
       "      <td>CA</td>\n",
       "      <td>42799</td>\n",
       "      <td>806</td>\n",
       "      <td>1</td>\n",
       "      <td>2018</td>\n",
       "      <td>3</td>\n",
       "      <td>IVERMECTIN</td>\n",
       "      <td>False</td>\n",
       "      <td>5182.000</td>\n",
       "      <td>625.0</td>\n",
       "      <td>20237.53</td>\n",
       "      <td>20227.53</td>\n",
       "      <td>10.0</td>\n",
       "      <td>7/1</td>\n",
       "      <td>07/01/2018 12:00:00 AM</td>\n",
       "      <td>33.7712</td>\n",
       "      <td>-111.3877</td>\n",
       "      <td>(33.7712, -111.3877)</td>\n",
       "      <td>42799080601</td>\n",
       "    </tr>\n",
       "  </tbody>\n",
       "</table>\n",
       "</div>"
      ],
      "text/plain": [
       "  Utilization Type State  Labeler Code  Product Code  Package Size  Year  \\\n",
       "0             MCOU    CA           168            20            31  2018   \n",
       "1             FFSU    CA            93          1712             1  2018   \n",
       "2             MCOU    CA         13668           271             1  2018   \n",
       "3             MCOU    CA           409          9558            10  2018   \n",
       "4             MCOU    CA         42799           806             1  2018   \n",
       "\n",
       "   Quarter Product Name  Suppression Used  Units Reimbursed  \\\n",
       "0        4   HYDRO OT 1             False        145234.499   \n",
       "1        4   WARFARIN S             False         34389.000   \n",
       "2        4   CARBAMZEPI             False         65209.000   \n",
       "3        4   ROCURONIUM              True               NaN   \n",
       "4        3   IVERMECTIN             False          5182.000   \n",
       "\n",
       "   Number of Prescriptions  Total Amount Reimbursed  \\\n",
       "0                   4134.0                 25281.85   \n",
       "1                    629.0                  9594.28   \n",
       "2                    515.0                 23956.24   \n",
       "3                      NaN                      NaN   \n",
       "4                    625.0                 20237.53   \n",
       "\n",
       "   Medicaid Amount Reimbursed  Non Medicaid Amount Reimbursed Quarter Begin  \\\n",
       "0                    25281.85                             0.0          10/1   \n",
       "1                     9594.28                             0.0          10/1   \n",
       "2                    23956.24                             0.0          10/1   \n",
       "3                         NaN                             NaN          10/1   \n",
       "4                    20227.53                            10.0           7/1   \n",
       "\n",
       "       Quarter Begin Date  Latitude  Longitude              Location  \\\n",
       "0  10/01/2018 12:00:00 AM   33.7712  -111.3877  (33.7712, -111.3877)   \n",
       "1  10/01/2018 12:00:00 AM   33.7712  -111.3877  (33.7712, -111.3877)   \n",
       "2  10/01/2018 12:00:00 AM   33.7712  -111.3877  (33.7712, -111.3877)   \n",
       "3  10/01/2018 12:00:00 AM   33.7712  -111.3877  (33.7712, -111.3877)   \n",
       "4  07/01/2018 12:00:00 AM   33.7712  -111.3877  (33.7712, -111.3877)   \n",
       "\n",
       "           NDC  \n",
       "0    168002031  \n",
       "1     93171201  \n",
       "2  13668027101  \n",
       "3    409955810  \n",
       "4  42799080601  "
      ]
     },
     "execution_count": 3,
     "metadata": {},
     "output_type": "execute_result"
    }
   ],
   "source": [
    "df_drugs.head()"
   ]
  },
  {
   "cell_type": "markdown",
   "metadata": {},
   "source": [
    "### Drugs for the data set that we crawled"
   ]
  },
  {
   "cell_type": "code",
   "execution_count": 4,
   "metadata": {},
   "outputs": [
    {
     "data": {
      "text/html": [
       "<div>\n",
       "<style scoped>\n",
       "    .dataframe tbody tr th:only-of-type {\n",
       "        vertical-align: middle;\n",
       "    }\n",
       "\n",
       "    .dataframe tbody tr th {\n",
       "        vertical-align: top;\n",
       "    }\n",
       "\n",
       "    .dataframe thead th {\n",
       "        text-align: right;\n",
       "    }\n",
       "</style>\n",
       "<table border=\"1\" class=\"dataframe\">\n",
       "  <thead>\n",
       "    <tr style=\"text-align: right;\">\n",
       "      <th></th>\n",
       "      <th>BrandName</th>\n",
       "      <th>Drug</th>\n",
       "      <th>GenName</th>\n",
       "      <th>HowtoUse</th>\n",
       "      <th>Use</th>\n",
       "    </tr>\n",
       "  </thead>\n",
       "  <tbody>\n",
       "    <tr>\n",
       "      <th>0</th>\n",
       "      <td>Astelin, Astepro</td>\n",
       "      <td>Azelastine HCL Aerosol, Spray With Pump</td>\n",
       "      <td>Azelastine</td>\n",
       "      <td>Read the Patient Information Leaflet provided ...</td>\n",
       "      <td>This medication is used to relieve nasal sympt...</td>\n",
       "    </tr>\n",
       "    <tr>\n",
       "      <th>1</th>\n",
       "      <td>NaN</td>\n",
       "      <td>Ryvent</td>\n",
       "      <td>Carbinoxamine Maleate</td>\n",
       "      <td>Take the tablet, capsule, or liquid form by mo...</td>\n",
       "      <td>Carbinoxamine is an antihistamine used to reli...</td>\n",
       "    </tr>\n",
       "    <tr>\n",
       "      <th>2</th>\n",
       "      <td>NaN</td>\n",
       "      <td>Ayvakit 300 Mg Tablet Antineoplastic - Protein...</td>\n",
       "      <td>Avapritinib</td>\n",
       "      <td>Read the Patient Information Leaflet if availa...</td>\n",
       "      <td>This medication is used to treat a certain typ...</td>\n",
       "    </tr>\n",
       "    <tr>\n",
       "      <th>3</th>\n",
       "      <td>NaN</td>\n",
       "      <td>Nextol SF Candy Base Powder Not Applicable</td>\n",
       "      <td>Lollipop Base No.232 (Bulk)</td>\n",
       "      <td>Consult your pharmacist or physician.</td>\n",
       "      <td>Consult your pharmacist or physician.</td>\n",
       "    </tr>\n",
       "    <tr>\n",
       "      <th>4</th>\n",
       "      <td>NaN</td>\n",
       "      <td>Rythmol SR</td>\n",
       "      <td>Propafenone</td>\n",
       "      <td>Read the Patient Information Leaflet if availa...</td>\n",
       "      <td>This medication is used to help prevent certai...</td>\n",
       "    </tr>\n",
       "  </tbody>\n",
       "</table>\n",
       "</div>"
      ],
      "text/plain": [
       "          BrandName                                               Drug  \\\n",
       "0  Astelin, Astepro            Azelastine HCL Aerosol, Spray With Pump   \n",
       "1               NaN                                             Ryvent   \n",
       "2               NaN  Ayvakit 300 Mg Tablet Antineoplastic - Protein...   \n",
       "3               NaN         Nextol SF Candy Base Powder Not Applicable   \n",
       "4               NaN                                         Rythmol SR   \n",
       "\n",
       "                       GenName  \\\n",
       "0                   Azelastine   \n",
       "1        Carbinoxamine Maleate   \n",
       "2                  Avapritinib   \n",
       "3  Lollipop Base No.232 (Bulk)   \n",
       "4                  Propafenone   \n",
       "\n",
       "                                            HowtoUse  \\\n",
       "0  Read the Patient Information Leaflet provided ...   \n",
       "1  Take the tablet, capsule, or liquid form by mo...   \n",
       "2  Read the Patient Information Leaflet if availa...   \n",
       "3              Consult your pharmacist or physician.   \n",
       "4  Read the Patient Information Leaflet if availa...   \n",
       "\n",
       "                                                 Use  \n",
       "0  This medication is used to relieve nasal sympt...  \n",
       "1  Carbinoxamine is an antihistamine used to reli...  \n",
       "2  This medication is used to treat a certain typ...  \n",
       "3              Consult your pharmacist or physician.  \n",
       "4  This medication is used to help prevent certai...  "
      ]
     },
     "execution_count": 4,
     "metadata": {},
     "output_type": "execute_result"
    }
   ],
   "source": [
    "df_crawl.head()\n"
   ]
  },
  {
   "cell_type": "markdown",
   "metadata": {},
   "source": [
    "### Data Cleaning for the data set found online"
   ]
  },
  {
   "cell_type": "code",
   "execution_count": 5,
   "metadata": {},
   "outputs": [
    {
     "name": "stdout",
     "output_type": "stream",
     "text": [
      "drugs df shape is:  (190666, 20)\n"
     ]
    }
   ],
   "source": [
    "print('drugs df shape is: ', df_drugs.shape)"
   ]
  },
  {
   "cell_type": "markdown",
   "metadata": {},
   "source": [
    "### We dropp the useless columns"
   ]
  },
  {
   "cell_type": "code",
   "execution_count": 6,
   "metadata": {},
   "outputs": [],
   "source": [
    "df_drugs = \\\n",
    "df_drugs.drop(columns=[ \\\n",
    "'Latitude', 'Longitude', 'Quarter Begin Date', 'Quarter Begin', 'State', 'Labeler Code', 'Product Code', 'Location', 'Year'])"
   ]
  },
  {
   "cell_type": "markdown",
   "metadata": {},
   "source": [
    "latitude, longidtude, year, state and Location columns have been droped because they are the same for all the data rows.\n",
    "Quarter Begin Date, and Quarter Begin columns are useless, we still have the Quarter column in case we analyse the quarter in which drugs are being used"
   ]
  },
  {
   "cell_type": "code",
   "execution_count": 7,
   "metadata": {},
   "outputs": [],
   "source": [
    "df_drugs = df_drugs.rename(columns={\"Suppression Used\": \"SuppressionUsed\", \"Package Size\": \"PackageSize\", \"Utilization Type\": \"UtilizationType\", \\\n",
    "                                   \"Product Name\": \"ProductName\", \"Non Medicaid Amount Reimbursed\": \"NonMedicaidAmountReimbursed\", \"Number of Prescriptions\": 'NumberOfPrescriptions'})"
   ]
  },
  {
   "cell_type": "code",
   "execution_count": 8,
   "metadata": {},
   "outputs": [
    {
     "data": {
      "text/html": [
       "<div>\n",
       "<style scoped>\n",
       "    .dataframe tbody tr th:only-of-type {\n",
       "        vertical-align: middle;\n",
       "    }\n",
       "\n",
       "    .dataframe tbody tr th {\n",
       "        vertical-align: top;\n",
       "    }\n",
       "\n",
       "    .dataframe thead th {\n",
       "        text-align: right;\n",
       "    }\n",
       "</style>\n",
       "<table border=\"1\" class=\"dataframe\">\n",
       "  <thead>\n",
       "    <tr style=\"text-align: right;\">\n",
       "      <th></th>\n",
       "      <th>UtilizationType</th>\n",
       "      <th>PackageSize</th>\n",
       "      <th>Quarter</th>\n",
       "      <th>ProductName</th>\n",
       "      <th>SuppressionUsed</th>\n",
       "      <th>Units Reimbursed</th>\n",
       "      <th>NumberOfPrescriptions</th>\n",
       "      <th>Total Amount Reimbursed</th>\n",
       "      <th>Medicaid Amount Reimbursed</th>\n",
       "      <th>NonMedicaidAmountReimbursed</th>\n",
       "      <th>NDC</th>\n",
       "    </tr>\n",
       "  </thead>\n",
       "  <tbody>\n",
       "    <tr>\n",
       "      <th>0</th>\n",
       "      <td>MCOU</td>\n",
       "      <td>31</td>\n",
       "      <td>4</td>\n",
       "      <td>HYDRO OT 1</td>\n",
       "      <td>0</td>\n",
       "      <td>145234.499</td>\n",
       "      <td>4134.0</td>\n",
       "      <td>25281.85</td>\n",
       "      <td>25281.85</td>\n",
       "      <td>0.0</td>\n",
       "      <td>168002031</td>\n",
       "    </tr>\n",
       "    <tr>\n",
       "      <th>1</th>\n",
       "      <td>FFSU</td>\n",
       "      <td>1</td>\n",
       "      <td>4</td>\n",
       "      <td>WARFARIN S</td>\n",
       "      <td>0</td>\n",
       "      <td>34389.000</td>\n",
       "      <td>629.0</td>\n",
       "      <td>9594.28</td>\n",
       "      <td>9594.28</td>\n",
       "      <td>0.0</td>\n",
       "      <td>93171201</td>\n",
       "    </tr>\n",
       "    <tr>\n",
       "      <th>2</th>\n",
       "      <td>MCOU</td>\n",
       "      <td>1</td>\n",
       "      <td>4</td>\n",
       "      <td>CARBAMZEPI</td>\n",
       "      <td>0</td>\n",
       "      <td>65209.000</td>\n",
       "      <td>515.0</td>\n",
       "      <td>23956.24</td>\n",
       "      <td>23956.24</td>\n",
       "      <td>0.0</td>\n",
       "      <td>13668027101</td>\n",
       "    </tr>\n",
       "    <tr>\n",
       "      <th>3</th>\n",
       "      <td>MCOU</td>\n",
       "      <td>10</td>\n",
       "      <td>4</td>\n",
       "      <td>ROCURONIUM</td>\n",
       "      <td>1</td>\n",
       "      <td>NaN</td>\n",
       "      <td>NaN</td>\n",
       "      <td>NaN</td>\n",
       "      <td>NaN</td>\n",
       "      <td>NaN</td>\n",
       "      <td>409955810</td>\n",
       "    </tr>\n",
       "    <tr>\n",
       "      <th>4</th>\n",
       "      <td>MCOU</td>\n",
       "      <td>1</td>\n",
       "      <td>3</td>\n",
       "      <td>IVERMECTIN</td>\n",
       "      <td>0</td>\n",
       "      <td>5182.000</td>\n",
       "      <td>625.0</td>\n",
       "      <td>20237.53</td>\n",
       "      <td>20227.53</td>\n",
       "      <td>10.0</td>\n",
       "      <td>42799080601</td>\n",
       "    </tr>\n",
       "  </tbody>\n",
       "</table>\n",
       "</div>"
      ],
      "text/plain": [
       "  UtilizationType  PackageSize  Quarter ProductName  SuppressionUsed  \\\n",
       "0            MCOU           31        4  HYDRO OT 1                0   \n",
       "1            FFSU            1        4  WARFARIN S                0   \n",
       "2            MCOU            1        4  CARBAMZEPI                0   \n",
       "3            MCOU           10        4  ROCURONIUM                1   \n",
       "4            MCOU            1        3  IVERMECTIN                0   \n",
       "\n",
       "   Units Reimbursed  NumberOfPrescriptions  Total Amount Reimbursed  \\\n",
       "0        145234.499                 4134.0                 25281.85   \n",
       "1         34389.000                  629.0                  9594.28   \n",
       "2         65209.000                  515.0                 23956.24   \n",
       "3               NaN                    NaN                      NaN   \n",
       "4          5182.000                  625.0                 20237.53   \n",
       "\n",
       "   Medicaid Amount Reimbursed  NonMedicaidAmountReimbursed          NDC  \n",
       "0                    25281.85                          0.0    168002031  \n",
       "1                     9594.28                          0.0     93171201  \n",
       "2                    23956.24                          0.0  13668027101  \n",
       "3                         NaN                          NaN    409955810  \n",
       "4                    20227.53                         10.0  42799080601  "
      ]
     },
     "execution_count": 8,
     "metadata": {},
     "output_type": "execute_result"
    }
   ],
   "source": [
    "df_drugs.SuppressionUsed = df_drugs.SuppressionUsed.astype(int)\n",
    "df_drugs.head()"
   ]
  },
  {
   "cell_type": "markdown",
   "metadata": {},
   "source": [
    "In the df_drugs data set we have Utilization Type column which MCOU is the risk-based managed care, and ffsu is fee for service."
   ]
  },
  {
   "cell_type": "code",
   "execution_count": 9,
   "metadata": {},
   "outputs": [
    {
     "name": "stdout",
     "output_type": "stream",
     "text": [
      "<class 'pandas.core.frame.DataFrame'>\n",
      "RangeIndex: 190666 entries, 0 to 190665\n",
      "Data columns (total 11 columns):\n",
      "UtilizationType                190666 non-null object\n",
      "PackageSize                    190666 non-null int64\n",
      "Quarter                        190666 non-null int64\n",
      "ProductName                    190666 non-null object\n",
      "SuppressionUsed                190666 non-null int64\n",
      "Units Reimbursed               109360 non-null float64\n",
      "NumberOfPrescriptions          109360 non-null float64\n",
      "Total Amount Reimbursed        109360 non-null float64\n",
      "Medicaid Amount Reimbursed     109360 non-null float64\n",
      "NonMedicaidAmountReimbursed    109360 non-null float64\n",
      "NDC                            190666 non-null int64\n",
      "dtypes: float64(5), int64(4), object(2)\n",
      "memory usage: 16.0+ MB\n",
      "\n",
      "\n"
     ]
    },
    {
     "data": {
      "text/plain": [
       "UtilizationType                    0\n",
       "PackageSize                        0\n",
       "Quarter                            0\n",
       "ProductName                        0\n",
       "SuppressionUsed                    0\n",
       "Units Reimbursed               81306\n",
       "NumberOfPrescriptions          81306\n",
       "Total Amount Reimbursed        81306\n",
       "Medicaid Amount Reimbursed     81306\n",
       "NonMedicaidAmountReimbursed    81306\n",
       "NDC                                0\n",
       "dtype: int64"
      ]
     },
     "execution_count": 9,
     "metadata": {},
     "output_type": "execute_result"
    }
   ],
   "source": [
    "df_drugs.info()\n",
    "print('\\n')\n",
    "df_drugs.isna().sum()\n"
   ]
  },
  {
   "cell_type": "markdown",
   "metadata": {},
   "source": [
    "For the data set df_drugs we see that suppresive drugs do not have any data for the columns: \"Units Reimbursed\", \"NumberOfPrescriptions\", \"Total Amount Reimbursed\", \"NOnMedicaidAmountReimbursed\"."
   ]
  },
  {
   "cell_type": "markdown",
   "metadata": {},
   "source": [
    "# EDA for the data set we found online"
   ]
  },
  {
   "cell_type": "code",
   "execution_count": 10,
   "metadata": {},
   "outputs": [
    {
     "name": "stdout",
     "output_type": "stream",
     "text": [
      "The maximum PackageSize is: 99\n",
      "The mininimum PackageSize is: 0\n",
      "The mean value for the PackageSizes is: 22.996617121038884\n",
      "The mode of the Package Size is 1\n",
      "The median for the Package Size is 10.0\n",
      "The standard deviation number of the Package Size is: 27.32846337204882\n"
     ]
    },
    {
     "data": {
      "image/png": "[encoded data removed]",
      "text/plain": [
       "<Figure size 432x288 with 1 Axes>"
      ]
     },
     "metadata": {
      "needs_background": "light"
     },
     "output_type": "display_data"
    }
   ],
   "source": [
    "maximumNum = df_drugs['PackageSize'].max()\n",
    "print(\"The maximum PackageSize is:\", maximumNum)\n",
    "\n",
    "minimumNum = df_drugs['PackageSize'].min()\n",
    "print(\"The mininimum PackageSize is:\", minimumNum)\n",
    "\n",
    "mean = df_drugs[\"PackageSize\"].mean()\n",
    "print(\"The mean value for the PackageSizes is:\", mean)\n",
    "\n",
    "mode = statistics.mode(df_drugs['PackageSize'])\n",
    "print(\"The mode of the Package Size is\", mode)\n",
    "\n",
    "median = statistics.median(df_drugs['PackageSize'])\n",
    "print(\"The median for the Package Size is\", median)\n",
    "\n",
    "std = df_drugs[\"PackageSize\"].std()\n",
    "print(\"The standard deviation number of the Package Size is:\", std)\n",
    "\n",
    "n, bins, patches = plt.hist(df_drugs['PackageSize'], 15, facecolor='green')\n",
    "plt.show()"
   ]
  },
  {
   "cell_type": "markdown",
   "metadata": {},
   "source": [
    "The data for the average package of the drugs is positively skewed in a significant amount"
   ]
  },
  {
   "cell_type": "code",
   "execution_count": 11,
   "metadata": {},
   "outputs": [
    {
     "data": {
      "text/plain": [
       "<matplotlib.axes._subplots.AxesSubplot at 0x7f2d652624a8>"
      ]
     },
     "execution_count": 11,
     "metadata": {},
     "output_type": "execute_result"
    },
    {
     "data": {
      "image/png": "[encoded data removed]",
      "text/plain": [
       "<Figure size 432x288 with 1 Axes>"
      ]
     },
     "metadata": {
      "needs_background": "light"
     },
     "output_type": "display_data"
    }
   ],
   "source": [
    "df_drugs.groupby(['SuppressionUsed'])['PackageSize'].mean().plot.bar()"
   ]
  },
  {
   "cell_type": "code",
   "execution_count": 12,
   "metadata": {},
   "outputs": [
    {
     "data": {
      "image/png": "[encoded data removed]",
      "text/plain": [
       "<Figure size 360x360 with 1 Axes>"
      ]
     },
     "metadata": {
      "needs_background": "light"
     },
     "output_type": "display_data"
    }
   ],
   "source": [
    "sns.relplot(x=\"Quarter\", y=\"PackageSize\", ci=None, kind=\"line\", data=df_drugs);"
   ]
  },
  {
   "cell_type": "markdown",
   "metadata": {},
   "source": [
    "This graph shows how in the different quarter of the years the package size of the drugs starts being bigger and as the year goes the package size is being reduced\n"
   ]
  },
  {
   "cell_type": "code",
   "execution_count": 13,
   "metadata": {},
   "outputs": [
    {
     "data": {
      "text/html": [
       "<div>\n",
       "<style scoped>\n",
       "    .dataframe tbody tr th:only-of-type {\n",
       "        vertical-align: middle;\n",
       "    }\n",
       "\n",
       "    .dataframe tbody tr th {\n",
       "        vertical-align: top;\n",
       "    }\n",
       "\n",
       "    .dataframe thead th {\n",
       "        text-align: right;\n",
       "    }\n",
       "</style>\n",
       "<table border=\"1\" class=\"dataframe\">\n",
       "  <thead>\n",
       "    <tr style=\"text-align: right;\">\n",
       "      <th></th>\n",
       "      <th>UtilizationType</th>\n",
       "      <th>PackageSize</th>\n",
       "      <th>Units Reimbursed</th>\n",
       "      <th>NumberOfPrescriptions</th>\n",
       "      <th>Total Amount Reimbursed</th>\n",
       "      <th>Medicaid Amount Reimbursed</th>\n",
       "      <th>NonMedicaidAmountReimbursed</th>\n",
       "    </tr>\n",
       "  </thead>\n",
       "  <tbody>\n",
       "    <tr>\n",
       "      <th>0</th>\n",
       "      <td>MCOU</td>\n",
       "      <td>31</td>\n",
       "      <td>145234.499</td>\n",
       "      <td>4134.0</td>\n",
       "      <td>25281.85</td>\n",
       "      <td>25281.85</td>\n",
       "      <td>0.00</td>\n",
       "    </tr>\n",
       "    <tr>\n",
       "      <th>1</th>\n",
       "      <td>FFSU</td>\n",
       "      <td>1</td>\n",
       "      <td>34389.000</td>\n",
       "      <td>629.0</td>\n",
       "      <td>9594.28</td>\n",
       "      <td>9594.28</td>\n",
       "      <td>0.00</td>\n",
       "    </tr>\n",
       "    <tr>\n",
       "      <th>2</th>\n",
       "      <td>MCOU</td>\n",
       "      <td>1</td>\n",
       "      <td>65209.000</td>\n",
       "      <td>515.0</td>\n",
       "      <td>23956.24</td>\n",
       "      <td>23956.24</td>\n",
       "      <td>0.00</td>\n",
       "    </tr>\n",
       "    <tr>\n",
       "      <th>4</th>\n",
       "      <td>MCOU</td>\n",
       "      <td>1</td>\n",
       "      <td>5182.000</td>\n",
       "      <td>625.0</td>\n",
       "      <td>20237.53</td>\n",
       "      <td>20227.53</td>\n",
       "      <td>10.00</td>\n",
       "    </tr>\n",
       "    <tr>\n",
       "      <th>5</th>\n",
       "      <td>MCOU</td>\n",
       "      <td>5</td>\n",
       "      <td>641156.500</td>\n",
       "      <td>11256.0</td>\n",
       "      <td>80995.69</td>\n",
       "      <td>80529.92</td>\n",
       "      <td>465.77</td>\n",
       "    </tr>\n",
       "    <tr>\n",
       "      <th>...</th>\n",
       "      <td>...</td>\n",
       "      <td>...</td>\n",
       "      <td>...</td>\n",
       "      <td>...</td>\n",
       "      <td>...</td>\n",
       "      <td>...</td>\n",
       "      <td>...</td>\n",
       "    </tr>\n",
       "    <tr>\n",
       "      <th>190649</th>\n",
       "      <td>FFSU</td>\n",
       "      <td>16</td>\n",
       "      <td>26590.000</td>\n",
       "      <td>667.0</td>\n",
       "      <td>2811.09</td>\n",
       "      <td>2811.09</td>\n",
       "      <td>0.00</td>\n",
       "    </tr>\n",
       "    <tr>\n",
       "      <th>190650</th>\n",
       "      <td>FFSU</td>\n",
       "      <td>50</td>\n",
       "      <td>53665.000</td>\n",
       "      <td>997.0</td>\n",
       "      <td>15297.69</td>\n",
       "      <td>15297.23</td>\n",
       "      <td>0.46</td>\n",
       "    </tr>\n",
       "    <tr>\n",
       "      <th>190651</th>\n",
       "      <td>FFSU</td>\n",
       "      <td>6</td>\n",
       "      <td>7478.000</td>\n",
       "      <td>1324.0</td>\n",
       "      <td>31091.44</td>\n",
       "      <td>30694.56</td>\n",
       "      <td>396.88</td>\n",
       "    </tr>\n",
       "    <tr>\n",
       "      <th>190653</th>\n",
       "      <td>FFSU</td>\n",
       "      <td>60</td>\n",
       "      <td>2880.000</td>\n",
       "      <td>47.0</td>\n",
       "      <td>2307.96</td>\n",
       "      <td>2307.96</td>\n",
       "      <td>0.00</td>\n",
       "    </tr>\n",
       "    <tr>\n",
       "      <th>190660</th>\n",
       "      <td>FFSU</td>\n",
       "      <td>93</td>\n",
       "      <td>2482.000</td>\n",
       "      <td>71.0</td>\n",
       "      <td>1722.97</td>\n",
       "      <td>1722.97</td>\n",
       "      <td>0.00</td>\n",
       "    </tr>\n",
       "  </tbody>\n",
       "</table>\n",
       "<p>109360 rows × 7 columns</p>\n",
       "</div>"
      ],
      "text/plain": [
       "       UtilizationType  PackageSize  Units Reimbursed  NumberOfPrescriptions  \\\n",
       "0                 MCOU           31        145234.499                 4134.0   \n",
       "1                 FFSU            1         34389.000                  629.0   \n",
       "2                 MCOU            1         65209.000                  515.0   \n",
       "4                 MCOU            1          5182.000                  625.0   \n",
       "5                 MCOU            5        641156.500                11256.0   \n",
       "...                ...          ...               ...                    ...   \n",
       "190649            FFSU           16         26590.000                  667.0   \n",
       "190650            FFSU           50         53665.000                  997.0   \n",
       "190651            FFSU            6          7478.000                 1324.0   \n",
       "190653            FFSU           60          2880.000                   47.0   \n",
       "190660            FFSU           93          2482.000                   71.0   \n",
       "\n",
       "        Total Amount Reimbursed  Medicaid Amount Reimbursed  \\\n",
       "0                      25281.85                    25281.85   \n",
       "1                       9594.28                     9594.28   \n",
       "2                      23956.24                    23956.24   \n",
       "4                      20237.53                    20227.53   \n",
       "5                      80995.69                    80529.92   \n",
       "...                         ...                         ...   \n",
       "190649                  2811.09                     2811.09   \n",
       "190650                 15297.69                    15297.23   \n",
       "190651                 31091.44                    30694.56   \n",
       "190653                  2307.96                     2307.96   \n",
       "190660                  1722.97                     1722.97   \n",
       "\n",
       "        NonMedicaidAmountReimbursed  \n",
       "0                              0.00  \n",
       "1                              0.00  \n",
       "2                              0.00  \n",
       "4                             10.00  \n",
       "5                            465.77  \n",
       "...                             ...  \n",
       "190649                         0.00  \n",
       "190650                         0.46  \n",
       "190651                       396.88  \n",
       "190653                         0.00  \n",
       "190660                         0.00  \n",
       "\n",
       "[109360 rows x 7 columns]"
      ]
     },
     "execution_count": 13,
     "metadata": {},
     "output_type": "execute_result"
    }
   ],
   "source": [
    "tdf = df_drugs.drop(columns=['ProductName', 'NDC', 'Quarter', 'SuppressionUsed'])\n",
    "tdf = tdf.dropna()\n",
    "tdf"
   ]
  },
  {
   "cell_type": "markdown",
   "metadata": {},
   "source": [
    "This barcode that the average package size for suppressed drugs is bigger than the average package size for non suppresive drugs"
   ]
  },
  {
   "cell_type": "code",
   "execution_count": 14,
   "metadata": {},
   "outputs": [
    {
     "data": {
      "text/plain": [
       "<seaborn.axisgrid.PairGrid at 0x7f2d5da7a5f8>"
      ]
     },
     "execution_count": 14,
     "metadata": {},
     "output_type": "execute_result"
    },
    {
     "data": {
      "image/png": "[encoded data removed]",
      "text/plain": [
       "<Figure size 985.659x900 with 30 Axes>"
      ]
     },
     "metadata": {},
     "output_type": "display_data"
    }
   ],
   "source": [
    "tempDf = df_drugs.drop(columns=['ProductName', 'NDC', 'Quarter', 'SuppressionUsed', 'PackageSize'])\n",
    "tempDf = tempDf.dropna()\n",
    "indexNames = df_drugs[ df_drugs[\"NumberOfPrescriptions\"] >= 150000.00 ].index\n",
    "tempDf.drop(indexNames , inplace=True)\n",
    "indexNames = df_drugs[ df_drugs[\"NonMedicaidAmountReimbursed\"] >= 6000000.00 ].index\n",
    "tempDf.drop(indexNames , inplace=True)\n",
    "sns.set(style=\"ticks\")\n",
    "sns.pairplot(tempDf, hue=\"UtilizationType\")"
   ]
  },
  {
   "cell_type": "markdown",
   "metadata": {},
   "source": [
    "After dropping some outliers and printing the scatterplox matrix, we can see that there is a high correlation between the medicaid amount reimbursed and the total amount reimbursed, which means that one of this columns is redundant. Also the medicaid amount reimbursed is somewhat correlated to the Number of prescriptions. All other scatterplots only show sparse relations between columns"
   ]
  },
  {
   "cell_type": "code",
   "execution_count": 15,
   "metadata": {},
   "outputs": [
    {
     "data": {
      "image/png": "[encoded data removed]",
      "text/plain": [
       "<Figure size 360x360 with 1 Axes>"
      ]
     },
     "metadata": {},
     "output_type": "display_data"
    },
    {
     "data": {
      "image/png": "[encoded data removed]",
      "text/plain": [
       "<Figure size 360x360 with 1 Axes>"
      ]
     },
     "metadata": {},
     "output_type": "display_data"
    },
    {
     "data": {
      "image/png": "[encoded data removed]",
      "text/plain": [
       "<Figure size 360x360 with 1 Axes>"
      ]
     },
     "metadata": {},
     "output_type": "display_data"
    }
   ],
   "source": [
    "sns.relplot(x=\"Quarter\", y=\"Total Amount Reimbursed\", ci=None, kind=\"line\", data=df_drugs);\n",
    "sns.relplot(x=\"Quarter\", y=\"Medicaid Amount Reimbursed\", ci=None, kind=\"line\", data=df_drugs);\n",
    "sns.relplot(x=\"Quarter\", y=\"NonMedicaidAmountReimbursed\", ci=None, kind=\"line\", data=df_drugs);"
   ]
  },
  {
   "cell_type": "markdown",
   "metadata": {},
   "source": [
    "As in the scatterplox above we can se how the graphs for medicaid reimbursment and the total amount reimbursed are very similar, that is because they are highly correlated, in fact it is possible that most of the total amounts being reimbursed are the same as the medicaid amount reimbursed. We do see a difference of values in the first quarter of the year, and we can see in the non medicad amount reimbursed graph that the first quarter is where this happens, with very  low numbers of non medicaid amount reimbursed for the second third and fourth quarter"
   ]
  },
  {
   "cell_type": "code",
   "execution_count": 16,
   "metadata": {},
   "outputs": [
    {
     "data": {
      "text/html": [
       "<div>\n",
       "<style scoped>\n",
       "    .dataframe tbody tr th:only-of-type {\n",
       "        vertical-align: middle;\n",
       "    }\n",
       "\n",
       "    .dataframe tbody tr th {\n",
       "        vertical-align: top;\n",
       "    }\n",
       "\n",
       "    .dataframe thead th {\n",
       "        text-align: right;\n",
       "    }\n",
       "</style>\n",
       "<table border=\"1\" class=\"dataframe\">\n",
       "  <thead>\n",
       "    <tr style=\"text-align: right;\">\n",
       "      <th></th>\n",
       "      <th>BrandName</th>\n",
       "      <th>Drug</th>\n",
       "      <th>GenName</th>\n",
       "      <th>HowtoUse</th>\n",
       "      <th>Use</th>\n",
       "    </tr>\n",
       "  </thead>\n",
       "  <tbody>\n",
       "    <tr>\n",
       "      <th>0</th>\n",
       "      <td>Astelin, Astepro</td>\n",
       "      <td>Azelastine HCL Aerosol, Spray With Pump</td>\n",
       "      <td>Azelastine</td>\n",
       "      <td>Read the Patient Information Leaflet provided ...</td>\n",
       "      <td>This medication is used to relieve nasal sympt...</td>\n",
       "    </tr>\n",
       "    <tr>\n",
       "      <th>1</th>\n",
       "      <td>NaN</td>\n",
       "      <td>Ryvent</td>\n",
       "      <td>Carbinoxamine Maleate</td>\n",
       "      <td>Take the tablet, capsule, or liquid form by mo...</td>\n",
       "      <td>Carbinoxamine is an antihistamine used to reli...</td>\n",
       "    </tr>\n",
       "    <tr>\n",
       "      <th>2</th>\n",
       "      <td>NaN</td>\n",
       "      <td>Ayvakit 300 Mg Tablet Antineoplastic - Protein...</td>\n",
       "      <td>Avapritinib</td>\n",
       "      <td>Read the Patient Information Leaflet if availa...</td>\n",
       "      <td>This medication is used to treat a certain typ...</td>\n",
       "    </tr>\n",
       "    <tr>\n",
       "      <th>3</th>\n",
       "      <td>NaN</td>\n",
       "      <td>Nextol SF Candy Base Powder Not Applicable</td>\n",
       "      <td>Lollipop Base No.232 (Bulk)</td>\n",
       "      <td>Consult your pharmacist or physician.</td>\n",
       "      <td>Consult your pharmacist or physician.</td>\n",
       "    </tr>\n",
       "    <tr>\n",
       "      <th>4</th>\n",
       "      <td>NaN</td>\n",
       "      <td>Rythmol SR</td>\n",
       "      <td>Propafenone</td>\n",
       "      <td>Read the Patient Information Leaflet if availa...</td>\n",
       "      <td>This medication is used to help prevent certai...</td>\n",
       "    </tr>\n",
       "  </tbody>\n",
       "</table>\n",
       "</div>"
      ],
      "text/plain": [
       "          BrandName                                               Drug  \\\n",
       "0  Astelin, Astepro            Azelastine HCL Aerosol, Spray With Pump   \n",
       "1               NaN                                             Ryvent   \n",
       "2               NaN  Ayvakit 300 Mg Tablet Antineoplastic - Protein...   \n",
       "3               NaN         Nextol SF Candy Base Powder Not Applicable   \n",
       "4               NaN                                         Rythmol SR   \n",
       "\n",
       "                       GenName  \\\n",
       "0                   Azelastine   \n",
       "1        Carbinoxamine Maleate   \n",
       "2                  Avapritinib   \n",
       "3  Lollipop Base No.232 (Bulk)   \n",
       "4                  Propafenone   \n",
       "\n",
       "                                            HowtoUse  \\\n",
       "0  Read the Patient Information Leaflet provided ...   \n",
       "1  Take the tablet, capsule, or liquid form by mo...   \n",
       "2  Read the Patient Information Leaflet if availa...   \n",
       "3              Consult your pharmacist or physician.   \n",
       "4  Read the Patient Information Leaflet if availa...   \n",
       "\n",
       "                                                 Use  \n",
       "0  This medication is used to relieve nasal sympt...  \n",
       "1  Carbinoxamine is an antihistamine used to reli...  \n",
       "2  This medication is used to treat a certain typ...  \n",
       "3              Consult your pharmacist or physician.  \n",
       "4  This medication is used to help prevent certai...  "
      ]
     },
     "execution_count": 16,
     "metadata": {},
     "output_type": "execute_result"
    }
   ],
   "source": [
    "df_crawl.head()"
   ]
  },
  {
   "cell_type": "markdown",
   "metadata": {},
   "source": [
    "## Data Cleaning for the data set we crawled"
   ]
  },
  {
   "cell_type": "markdown",
   "metadata": {},
   "source": [
    "### Drop Columns"
   ]
  },
  {
   "cell_type": "code",
   "execution_count": 17,
   "metadata": {},
   "outputs": [],
   "source": [
    "df_crawl = df_crawl.drop(columns=['BrandName'])"
   ]
  },
  {
   "cell_type": "code",
   "execution_count": 18,
   "metadata": {},
   "outputs": [],
   "source": [
    "df_crawl = df_crawl.dropna()"
   ]
  },
  {
   "cell_type": "code",
   "execution_count": 19,
   "metadata": {},
   "outputs": [
    {
     "name": "stdout",
     "output_type": "stream",
     "text": [
      "crawl df shape is:  (18820, 4)\n"
     ]
    }
   ],
   "source": [
    "print('crawl df shape is: ', df_crawl.shape)"
   ]
  },
  {
   "cell_type": "code",
   "execution_count": 20,
   "metadata": {},
   "outputs": [
    {
     "name": "stdout",
     "output_type": "stream",
     "text": [
      "<class 'pandas.core.frame.DataFrame'>\n",
      "Int64Index: 18820 entries, 0 to 18958\n",
      "Data columns (total 4 columns):\n",
      "Drug        18820 non-null object\n",
      "GenName     18820 non-null object\n",
      "HowtoUse    18820 non-null object\n",
      "Use         18820 non-null object\n",
      "dtypes: object(4)\n",
      "memory usage: 735.2+ KB\n",
      "\n",
      "\n"
     ]
    },
    {
     "data": {
      "text/plain": [
       "Drug        0\n",
       "GenName     0\n",
       "HowtoUse    0\n",
       "Use         0\n",
       "dtype: int64"
      ]
     },
     "execution_count": 20,
     "metadata": {},
     "output_type": "execute_result"
    }
   ],
   "source": [
    "df_crawl.info()\n",
    "print('\\n')\n",
    "df_crawl.isna().sum()"
   ]
  },
  {
   "cell_type": "code",
   "execution_count": 21,
   "metadata": {},
   "outputs": [
    {
     "data": {
      "text/html": [
       "<div>\n",
       "<style scoped>\n",
       "    .dataframe tbody tr th:only-of-type {\n",
       "        vertical-align: middle;\n",
       "    }\n",
       "\n",
       "    .dataframe tbody tr th {\n",
       "        vertical-align: top;\n",
       "    }\n",
       "\n",
       "    .dataframe thead th {\n",
       "        text-align: right;\n",
       "    }\n",
       "</style>\n",
       "<table border=\"1\" class=\"dataframe\">\n",
       "  <thead>\n",
       "    <tr style=\"text-align: right;\">\n",
       "      <th></th>\n",
       "      <th>Drug</th>\n",
       "      <th>GenName</th>\n",
       "      <th>HowtoUse</th>\n",
       "      <th>Use</th>\n",
       "    </tr>\n",
       "  </thead>\n",
       "  <tbody>\n",
       "    <tr>\n",
       "      <th>0</th>\n",
       "      <td>Azelastine HCL Aerosol, Spray With Pump</td>\n",
       "      <td>Azelastine</td>\n",
       "      <td>Read the Patient Information Leaflet provided ...</td>\n",
       "      <td>This medication is used to relieve nasal sympt...</td>\n",
       "    </tr>\n",
       "    <tr>\n",
       "      <th>1</th>\n",
       "      <td>Ryvent</td>\n",
       "      <td>Carbinoxamine Maleate</td>\n",
       "      <td>Take the tablet, capsule, or liquid form by mo...</td>\n",
       "      <td>Carbinoxamine is an antihistamine used to reli...</td>\n",
       "    </tr>\n",
       "    <tr>\n",
       "      <th>2</th>\n",
       "      <td>Ayvakit 300 Mg Tablet Antineoplastic - Protein...</td>\n",
       "      <td>Avapritinib</td>\n",
       "      <td>Read the Patient Information Leaflet if availa...</td>\n",
       "      <td>This medication is used to treat a certain typ...</td>\n",
       "    </tr>\n",
       "    <tr>\n",
       "      <th>3</th>\n",
       "      <td>Nextol SF Candy Base Powder Not Applicable</td>\n",
       "      <td>Lollipop Base No.232 (Bulk)</td>\n",
       "      <td>Consult your pharmacist or physician.</td>\n",
       "      <td>Consult your pharmacist or physician.</td>\n",
       "    </tr>\n",
       "    <tr>\n",
       "      <th>4</th>\n",
       "      <td>Rythmol SR</td>\n",
       "      <td>Propafenone</td>\n",
       "      <td>Read the Patient Information Leaflet if availa...</td>\n",
       "      <td>This medication is used to help prevent certai...</td>\n",
       "    </tr>\n",
       "    <tr>\n",
       "      <th>...</th>\n",
       "      <td>...</td>\n",
       "      <td>...</td>\n",
       "      <td>...</td>\n",
       "      <td>...</td>\n",
       "    </tr>\n",
       "    <tr>\n",
       "      <th>18954</th>\n",
       "      <td>Well Beginnings Training Pants Not Applicable</td>\n",
       "      <td>Diaper,Brief,Infant-Todd,Disp</td>\n",
       "      <td>Consult your pharmacist or physician.</td>\n",
       "      <td>Consult your pharmacist or physician.</td>\n",
       "    </tr>\n",
       "    <tr>\n",
       "      <th>18955</th>\n",
       "      <td>Well Beginnings Diapers Not Applicable</td>\n",
       "      <td>Diaper,Brief,Infant-Todd,Disp</td>\n",
       "      <td>Consult your pharmacist or physician.</td>\n",
       "      <td>Consult your pharmacist or physician.</td>\n",
       "    </tr>\n",
       "    <tr>\n",
       "      <th>18956</th>\n",
       "      <td>Weed Pollen-Short Ragweed Tablet, Sublingual</td>\n",
       "      <td>Weed Pollen-Short Ragweed</td>\n",
       "      <td>Read the Medication Guide provided by your pha...</td>\n",
       "      <td>This medication is used to treat certain aller...</td>\n",
       "    </tr>\n",
       "    <tr>\n",
       "      <th>18957</th>\n",
       "      <td>Welchol 625 Mg Tablet</td>\n",
       "      <td>Colesevelam</td>\n",
       "      <td>Take this medication by mouth with a meal, usu...</td>\n",
       "      <td>This medication is used along with a proper di...</td>\n",
       "    </tr>\n",
       "    <tr>\n",
       "      <th>18958</th>\n",
       "      <td>Well Beginnings Sleep Pants Not Applicable</td>\n",
       "      <td>Diaper,Brief,Youth Disposable</td>\n",
       "      <td>Consult your pharmacist or physician.</td>\n",
       "      <td>Consult your pharmacist or physician.</td>\n",
       "    </tr>\n",
       "  </tbody>\n",
       "</table>\n",
       "<p>18820 rows × 4 columns</p>\n",
       "</div>"
      ],
      "text/plain": [
       "                                                    Drug  \\\n",
       "0                Azelastine HCL Aerosol, Spray With Pump   \n",
       "1                                                 Ryvent   \n",
       "2      Ayvakit 300 Mg Tablet Antineoplastic - Protein...   \n",
       "3             Nextol SF Candy Base Powder Not Applicable   \n",
       "4                                             Rythmol SR   \n",
       "...                                                  ...   \n",
       "18954      Well Beginnings Training Pants Not Applicable   \n",
       "18955             Well Beginnings Diapers Not Applicable   \n",
       "18956       Weed Pollen-Short Ragweed Tablet, Sublingual   \n",
       "18957                              Welchol 625 Mg Tablet   \n",
       "18958         Well Beginnings Sleep Pants Not Applicable   \n",
       "\n",
       "                             GenName  \\\n",
       "0                         Azelastine   \n",
       "1              Carbinoxamine Maleate   \n",
       "2                        Avapritinib   \n",
       "3        Lollipop Base No.232 (Bulk)   \n",
       "4                        Propafenone   \n",
       "...                              ...   \n",
       "18954  Diaper,Brief,Infant-Todd,Disp   \n",
       "18955  Diaper,Brief,Infant-Todd,Disp   \n",
       "18956      Weed Pollen-Short Ragweed   \n",
       "18957                    Colesevelam   \n",
       "18958  Diaper,Brief,Youth Disposable   \n",
       "\n",
       "                                                HowtoUse  \\\n",
       "0      Read the Patient Information Leaflet provided ...   \n",
       "1      Take the tablet, capsule, or liquid form by mo...   \n",
       "2      Read the Patient Information Leaflet if availa...   \n",
       "3                  Consult your pharmacist or physician.   \n",
       "4      Read the Patient Information Leaflet if availa...   \n",
       "...                                                  ...   \n",
       "18954              Consult your pharmacist or physician.   \n",
       "18955              Consult your pharmacist or physician.   \n",
       "18956  Read the Medication Guide provided by your pha...   \n",
       "18957  Take this medication by mouth with a meal, usu...   \n",
       "18958              Consult your pharmacist or physician.   \n",
       "\n",
       "                                                     Use  \n",
       "0      This medication is used to relieve nasal sympt...  \n",
       "1      Carbinoxamine is an antihistamine used to reli...  \n",
       "2      This medication is used to treat a certain typ...  \n",
       "3                  Consult your pharmacist or physician.  \n",
       "4      This medication is used to help prevent certai...  \n",
       "...                                                  ...  \n",
       "18954              Consult your pharmacist or physician.  \n",
       "18955              Consult your pharmacist or physician.  \n",
       "18956  This medication is used to treat certain aller...  \n",
       "18957  This medication is used along with a proper di...  \n",
       "18958              Consult your pharmacist or physician.  \n",
       "\n",
       "[18820 rows x 4 columns]"
      ]
     },
     "execution_count": 21,
     "metadata": {},
     "output_type": "execute_result"
    }
   ],
   "source": [
    "df_crawl"
   ]
  },
  {
   "cell_type": "code",
   "execution_count": 22,
   "metadata": {},
   "outputs": [
    {
     "data": {
      "text/plain": [
       "Drug\n",
       "A + D Ointment                                   1\n",
       "A And D Diaper Rash Cream                        1\n",
       "A Thru Z                                         1\n",
       "A Thru Z 18 Mg-500 Mcg-300 Mcg-250 Mcg Tablet    1\n",
       "A Thru Z Advanced Formula                        1\n",
       "                                                ..\n",
       "perphenazine                                     1\n",
       "promethazine HCL                                 1\n",
       "promethazine HCL Ampul                           1\n",
       "ramipril                                         1\n",
       "valsartan-hydrochlorothiazide                    1\n",
       "Name: Drug, Length: 18316, dtype: int64"
      ]
     },
     "execution_count": 22,
     "metadata": {},
     "output_type": "execute_result"
    }
   ],
   "source": [
    "df_crawl.groupby(['Drug'])['Drug'].count()\n"
   ]
  },
  {
   "cell_type": "code",
   "execution_count": 23,
   "metadata": {},
   "outputs": [
    {
     "name": "stdout",
     "output_type": "stream",
     "text": [
      "most common use is:  Consult your pharmacist or physician.\n"
     ]
    }
   ],
   "source": [
    "use = df_crawl['Use'].value_counts().idxmax()\n",
    "print('most common use is: ', use)"
   ]
  },
  {
   "cell_type": "markdown",
   "metadata": {},
   "source": [
    "\"Consult your pharmacist or physician\" is the most common use for drugs. But since this is not an actual use, We will drop this rows and check for the remaining drugs."
   ]
  },
  {
   "cell_type": "code",
   "execution_count": 24,
   "metadata": {},
   "outputs": [
    {
     "name": "stdout",
     "output_type": "stream",
     "text": [
      "most common use of the listed drugs is:  This medication is a multivitamin product used to treat or prevent vitamin deficiency due to poor diet, certain illnesses, or during pregnancy. Vitamins are important building blocks of the body and help keep you in good health.\n"
     ]
    },
    {
     "data": {
      "text/html": [
       "<div>\n",
       "<style scoped>\n",
       "    .dataframe tbody tr th:only-of-type {\n",
       "        vertical-align: middle;\n",
       "    }\n",
       "\n",
       "    .dataframe tbody tr th {\n",
       "        vertical-align: top;\n",
       "    }\n",
       "\n",
       "    .dataframe thead th {\n",
       "        text-align: right;\n",
       "    }\n",
       "</style>\n",
       "<table border=\"1\" class=\"dataframe\">\n",
       "  <thead>\n",
       "    <tr style=\"text-align: right;\">\n",
       "      <th></th>\n",
       "      <th>Drug</th>\n",
       "      <th>GenName</th>\n",
       "      <th>HowtoUse</th>\n",
       "      <th>Use</th>\n",
       "    </tr>\n",
       "  </thead>\n",
       "  <tbody>\n",
       "    <tr>\n",
       "      <th>15</th>\n",
       "      <td>MVW Complete FORMULTN Multivit</td>\n",
       "      <td>Pediatric Multivit 22-D3-Vit K, Pediatric Mult...</td>\n",
       "      <td>Take this medication by mouth, usually once da...</td>\n",
       "      <td>This medication is a multivitamin product used...</td>\n",
       "    </tr>\n",
       "    <tr>\n",
       "      <th>16</th>\n",
       "      <td>MVW Complete Formulation D5000 5,000 Unit-1,00...</td>\n",
       "      <td>Pediatric Multivit 22-D3-Vit K, Pediatric Mult...</td>\n",
       "      <td>Chew this medication thoroughly and swallow, u...</td>\n",
       "      <td>This medication is a multivitamin product used...</td>\n",
       "    </tr>\n",
       "    <tr>\n",
       "      <th>18</th>\n",
       "      <td>MVW Complete Formulation D3000 Capsule</td>\n",
       "      <td>Pediatric Multivit 22-D3-Vit K, Pediatric Mult...</td>\n",
       "      <td>Take this medication by mouth, usually once da...</td>\n",
       "      <td>This medication is a multivitamin product used...</td>\n",
       "    </tr>\n",
       "    <tr>\n",
       "      <th>19</th>\n",
       "      <td>MVW Complete FORMULTN Multivit Tablet, Chewable</td>\n",
       "      <td>Pediatric Multivit 22-D3-Vit K, Pediatric Mult...</td>\n",
       "      <td>Chew this medication thoroughly and swallow, u...</td>\n",
       "      <td>This medication is a multivitamin product used...</td>\n",
       "    </tr>\n",
       "    <tr>\n",
       "      <th>20</th>\n",
       "      <td>MVW Complete Formulation D3000</td>\n",
       "      <td>Pediatric Multivit 22-D3-Vit K, Pediatric Mult...</td>\n",
       "      <td>Chew this medication thoroughly and swallow, u...</td>\n",
       "      <td>This medication is a multivitamin product used...</td>\n",
       "    </tr>\n",
       "    <tr>\n",
       "      <th>...</th>\n",
       "      <td>...</td>\n",
       "      <td>...</td>\n",
       "      <td>...</td>\n",
       "      <td>...</td>\n",
       "    </tr>\n",
       "    <tr>\n",
       "      <th>18492</th>\n",
       "      <td>Vinate One</td>\n",
       "      <td>Prenatal Vit27,Calcium-Iron-Fa</td>\n",
       "      <td>Take this medication by mouth, usually once da...</td>\n",
       "      <td>This medication is a multivitamin product used...</td>\n",
       "    </tr>\n",
       "    <tr>\n",
       "      <th>18542</th>\n",
       "      <td>VIC-Forte</td>\n",
       "      <td>Multivitamin With Min No.7-Fa</td>\n",
       "      <td>Take this medication by mouth, usually once da...</td>\n",
       "      <td>This medication is a multivitamin product used...</td>\n",
       "    </tr>\n",
       "    <tr>\n",
       "      <th>18723</th>\n",
       "      <td>V-C Forte</td>\n",
       "      <td>Multivitamin With Min No.7-Fa, Multivitamin,Tx...</td>\n",
       "      <td>Take this medication by mouth, usually once da...</td>\n",
       "      <td>This medication is a multivitamin product used...</td>\n",
       "    </tr>\n",
       "    <tr>\n",
       "      <th>18770</th>\n",
       "      <td>Ultra Freeda Tablet Multivitamins</td>\n",
       "      <td>Multivit-Iron-Fa-Calcium-Mins, Multivit,Calciu...</td>\n",
       "      <td>Take this medication by mouth, usually once da...</td>\n",
       "      <td>This medication is a multivitamin product used...</td>\n",
       "    </tr>\n",
       "    <tr>\n",
       "      <th>18816</th>\n",
       "      <td>Unicomplex-M</td>\n",
       "      <td>Multivitamin With Iron-Mineral</td>\n",
       "      <td>Take this medication by mouth, usually once da...</td>\n",
       "      <td>This medication is a multivitamin product used...</td>\n",
       "    </tr>\n",
       "  </tbody>\n",
       "</table>\n",
       "<p>442 rows × 4 columns</p>\n",
       "</div>"
      ],
      "text/plain": [
       "                                                    Drug  \\\n",
       "15                        MVW Complete FORMULTN Multivit   \n",
       "16     MVW Complete Formulation D5000 5,000 Unit-1,00...   \n",
       "18                MVW Complete Formulation D3000 Capsule   \n",
       "19       MVW Complete FORMULTN Multivit Tablet, Chewable   \n",
       "20                        MVW Complete Formulation D3000   \n",
       "...                                                  ...   \n",
       "18492                                         Vinate One   \n",
       "18542                                          VIC-Forte   \n",
       "18723                                          V-C Forte   \n",
       "18770                  Ultra Freeda Tablet Multivitamins   \n",
       "18816                                       Unicomplex-M   \n",
       "\n",
       "                                                 GenName  \\\n",
       "15     Pediatric Multivit 22-D3-Vit K, Pediatric Mult...   \n",
       "16     Pediatric Multivit 22-D3-Vit K, Pediatric Mult...   \n",
       "18     Pediatric Multivit 22-D3-Vit K, Pediatric Mult...   \n",
       "19     Pediatric Multivit 22-D3-Vit K, Pediatric Mult...   \n",
       "20     Pediatric Multivit 22-D3-Vit K, Pediatric Mult...   \n",
       "...                                                  ...   \n",
       "18492                     Prenatal Vit27,Calcium-Iron-Fa   \n",
       "18542                      Multivitamin With Min No.7-Fa   \n",
       "18723  Multivitamin With Min No.7-Fa, Multivitamin,Tx...   \n",
       "18770  Multivit-Iron-Fa-Calcium-Mins, Multivit,Calciu...   \n",
       "18816                     Multivitamin With Iron-Mineral   \n",
       "\n",
       "                                                HowtoUse  \\\n",
       "15     Take this medication by mouth, usually once da...   \n",
       "16     Chew this medication thoroughly and swallow, u...   \n",
       "18     Take this medication by mouth, usually once da...   \n",
       "19     Chew this medication thoroughly and swallow, u...   \n",
       "20     Chew this medication thoroughly and swallow, u...   \n",
       "...                                                  ...   \n",
       "18492  Take this medication by mouth, usually once da...   \n",
       "18542  Take this medication by mouth, usually once da...   \n",
       "18723  Take this medication by mouth, usually once da...   \n",
       "18770  Take this medication by mouth, usually once da...   \n",
       "18816  Take this medication by mouth, usually once da...   \n",
       "\n",
       "                                                     Use  \n",
       "15     This medication is a multivitamin product used...  \n",
       "16     This medication is a multivitamin product used...  \n",
       "18     This medication is a multivitamin product used...  \n",
       "19     This medication is a multivitamin product used...  \n",
       "20     This medication is a multivitamin product used...  \n",
       "...                                                  ...  \n",
       "18492  This medication is a multivitamin product used...  \n",
       "18542  This medication is a multivitamin product used...  \n",
       "18723  This medication is a multivitamin product used...  \n",
       "18770  This medication is a multivitamin product used...  \n",
       "18816  This medication is a multivitamin product used...  \n",
       "\n",
       "[442 rows x 4 columns]"
      ]
     },
     "execution_count": 24,
     "metadata": {},
     "output_type": "execute_result"
    }
   ],
   "source": [
    "dfT2 = df_crawl[df_crawl.Use != 'Consult your pharmacist or physician.']\n",
    "use = dfT2['Use'].value_counts().idxmax()\n",
    "print('most common use of the listed drugs is: ', use)\n",
    "dfT2 = dfT2[(dfT2['Use'] == use)]\n",
    "dfT2"
   ]
  },
  {
   "cell_type": "markdown",
   "metadata": {},
   "source": [
    "If wee look at the table we can clearyly see that this drug is a multivitamin."
   ]
  }
 ],
 "metadata": {
  "kernelspec": {
   "display_name": "Python 3",
   "language": "python",
   "name": "python3"
  },
  "language_info": {
   "codemirror_mode": {
    "name": "ipython",
    "version": 3
   },
   "file_extension": ".py",
   "mimetype": "text/x-python",
   "name": "python",
   "nbconvert_exporter": "python",
   "pygments_lexer": "ipython3",
   "version": "3.6.8"
  }
 },
 "nbformat": 4,
 "nbformat_minor": 4
}
